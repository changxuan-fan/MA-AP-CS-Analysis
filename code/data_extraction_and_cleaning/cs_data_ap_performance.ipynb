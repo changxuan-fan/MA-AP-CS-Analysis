{
 "cells": [
  {
   "cell_type": "code",
   "execution_count": 1,
   "id": "8ef99fcc",
   "metadata": {},
   "outputs": [],
   "source": [
    "import pandas as pd\n",
    "import os"
   ]
  },
  {
   "cell_type": "code",
   "execution_count": 2,
   "id": "bbdd48e1",
   "metadata": {},
   "outputs": [
    {
     "name": "stdout",
     "output_type": "stream",
     "text": [
      "/Users/fanchangxuan/范昌轩/Boston University/CS 506/ds-ncf-mass-cs-ed/fa23-team-a\n"
     ]
    }
   ],
   "source": [
    "# Only run this code once, or it will go to undisired path\n",
    "os.chdir(os.path.dirname(os.path.dirname(os.getcwd())))\n",
    "print(os.getcwd()) ## The result should display the directory fa23-team-a"
   ]
  },
  {
   "cell_type": "code",
   "execution_count": 6,
   "id": "02a552a3",
   "metadata": {},
   "outputs": [
    {
     "name": "stdout",
     "output_type": "stream",
     "text": [
      "['CS_22_Hispanic:Latino.xlsx', 'CS_21_English Learner.xlsx', 'CS_22_Nat. Haw. or Pacif. Isl..xlsx', '.DS_Store', 'CS_22_Male.xlsx', 'CS_22_Low Income.xlsx', 'CS_22_Amer. Ind. or Alaska Nat..xlsx', 'CS_21_Afr. Amer.:Black.xlsx', 'CS_22_Asian.xlsx', 'CS_21_High needs.xlsx', 'CS_21_White.xlsx', 'CS_21_Low Income.xlsx', 'CS_22_Afr. Amer.:Black.xlsx', 'CS_21_Female.xlsx', 'CS_22_All Students.xlsx', 'CS_22_White.xlsx', 'CS_22_Students w:disabilities.xlsx', 'CS_21_Nat. Haw. or Pacif. Isl..xlsx', 'CS_21_Asian.xlsx', 'CS_21_Hispanic:Latino.xlsx', 'CS_22_English Learner.xlsx', 'CS_21_Male.xlsx', 'CS_22_High needs.xlsx', 'CS_21_Amer. Ind. or Alaska Nat..xlsx', 'CS_22_Female.xlsx', 'CS_21_Students w:disabilities.xlsx', 'CS_21_All Students.xlsx']\n"
     ]
    }
   ],
   "source": [
    "raw_data_directory = \"data/AP_Performance_Raw_Data/\"\n",
    "l = list(os.listdir(raw_data_directory))\n",
    "print(l)"
   ]
  },
  {
   "cell_type": "code",
   "execution_count": 12,
   "id": "ee8846c8",
   "metadata": {},
   "outputs": [],
   "source": [
    "df_cs = pd.DataFrame()\n",
    "\n",
    "for i in l:\n",
    "    if i.startswith(\"CS_\"):\n",
    "        df = pd.read_excel(raw_data_directory+i, thousands=',') # read excel file\n",
    "        df.columns = df.iloc[0] # Make the first row as the column names  (first row is a list of columns)\n",
    "\n",
    "        df = df[1:] # exclude column names\n",
    "\n",
    "        # Add Columns Student Group and Year\n",
    "        df['Student Group'] = i.split(\"_\")[2][:-5].replace(\":\",\"/\")\n",
    "        if i.split(\"_\")[1]=='21':\n",
    "            df['Year'] = 2021\n",
    "        if i.split(\"_\")[1]=='22':\n",
    "            df['Year'] = 2022\n",
    "            \n",
    "        df_cs = pd.concat([df_cs, df], ignore_index=True) # Ignore index\n",
    "\n"
   ]
  },
  {
   "cell_type": "code",
   "execution_count": 14,
   "id": "dbc99dc3",
   "metadata": {},
   "outputs": [
    {
     "name": "stderr",
     "output_type": "stream",
     "text": [
      "/var/folders/pv/ct0plz3x3dx81m1cf_ygsl4w0000gn/T/ipykernel_77518/4167852365.py:1: UserWarning: Pandas requires version '3.0.3' or newer of 'xlsxwriter' (version '3.0.1' currently installed).\n",
      "  df_cs.to_excel(\"data/ap_performance_cleaned.xlsx\", index = False)\n"
     ]
    }
   ],
   "source": [
    "df_cs.to_excel(\"data/ap_performance_cleaned.xlsx\", index = False)"
   ]
  }
 ],
 "metadata": {
  "kernelspec": {
   "display_name": "Python 3 (ipykernel)",
   "language": "python",
   "name": "python3"
  },
  "language_info": {
   "codemirror_mode": {
    "name": "ipython",
    "version": 3
   },
   "file_extension": ".py",
   "mimetype": "text/x-python",
   "name": "python",
   "nbconvert_exporter": "python",
   "pygments_lexer": "ipython3",
   "version": "3.9.7"
  }
 },
 "nbformat": 4,
 "nbformat_minor": 5
}
