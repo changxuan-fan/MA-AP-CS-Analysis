{
 "cells": [
  {
   "cell_type": "code",
   "execution_count": 2,
   "metadata": {},
   "outputs": [
    {
     "name": "stdout",
     "output_type": "stream",
     "text": [
      "/Users/kelvin\n"
     ]
    }
   ],
   "source": [
    "import pandas as pd\n",
    "import os\n",
    "os.chdir(os.path.dirname(os.path.dirname(os.getcwd())))\n",
    "print(os.getcwd())"
   ]
  },
  {
   "cell_type": "code",
   "execution_count": 9,
   "metadata": {},
   "outputs": [
    {
     "name": "stdout",
     "output_type": "stream",
     "text": [
      "['ap_participation-Multi_20.xlsx', 'ap_participation-HispanicLatino_21.xlsx', 'ap_participation-HispanicLatino_20.xlsx', '.DS_Store', 'ap_participation-Multi_21.xlsx', 'ap_participation-StudentDisability_21.xlsx', 'ap_participation-StudentDisability_20.xlsx', 'combine_and_clean_ap_participation.ipynb', 'data_ap_participation_cleaned.ipynb', 'heat_density_ap_participation.ipynb', '~$ap_participation-AmerInd_20.xlsx', 'ap_participation-Male_21.xlsx', 'ap_participation-EnglishLearner_21.xlsx', 'ap_participation-Asian_21.xlsx', 'ap_participation-Asian_20.xlsx', 'ap_participation-EnglishLearner_20.xlsx', 'ap_participation-Male_20.xlsx', '~$ap_participation-AmerInd_21.xlsx', 'ap_participation-Nat_21.xlsx', 'ap_participation-HighNeeds_20.xlsx', 'ap_participation-LowIncome_21.xlsx', 'ap_participation-Female_21.xlsx', 'ap_participation-Black_20.xlsx', 'ap_participation-AmerInd_21.xlsx', 'ap_participation-White_20.xlsx', 'ap_participation-LowIncome_20xlsx.xlsx', 'ap_participation-White_21.xlsx', 'ap_participation-AmerInd_20.xlsx', 'ap_participation-Black_21.xlsx', 'ap_participation-HighNeeds_21.xlsx', 'ap_participation-Female_20.xlsx', 'ap_participation-Nat_20.xlsx']\n"
     ]
    }
   ],
   "source": [
    "raw_data_directory = \"CS506Project/AP_Participation_Raw_Data/\"\n",
    "l = list(os.listdir(raw_data_directory))\n",
    "print(l)"
   ]
  },
  {
   "cell_type": "code",
   "execution_count": 14,
   "metadata": {},
   "outputs": [],
   "source": [
    "df_cs = pd.DataFrame()\n",
    "\n",
    "for files in l: #for files in AP_Participation_Raw_Data\n",
    "    if files.startswith(\"ap_participation\"):\n",
    "        df = pd.read_excel(\"/Users/kelvin/CS506Project/AP_Participation_Raw_Data/\" + files, thousands=',')\n",
    "        \n",
    "        if not df.empty:  # Check if the DataFrame is not empty\n",
    "            df.columns = df.iloc[0]\n",
    "            cols = []\n",
    "            df = df[1:]\n",
    "            for j in df.columns:\n",
    "                if j not in ['District Name', 'District Code']:\n",
    "                    df[j] = df[j].fillna(0)\n",
    "                    df[j] = df[j].astype(float)\n",
    "                    df[j] = df[j].astype(int)\n",
    "           \n",
    "            student_group = files.split(\"-\")[1]\n",
    "            student_group = student_group.split(\"_\")[0]\n",
    "        \n",
    "            df['Student Group'] = student_group\n",
    "            year = files.split(\"_\")[2]\n",
    "            year = year.split(\".\")[0]\n",
    "            if year == '20':\n",
    "                df['Year'] = 2021\n",
    "            if year == '21':\n",
    "                df['Year'] = 2022\n",
    "            df_cs = pd.concat([df_cs, df])\n",
    "\n",
    "df_cs.to_excel(\"/Users/kelvin/CS506Project/AP_Participation_Raw_Data/cleaned_all_ap_participation.xlsx\", index = False)\n",
    "            "
   ]
  }
 ],
 "metadata": {
  "kernelspec": {
   "display_name": "Python 3",
   "language": "python",
   "name": "python3"
  },
  "language_info": {
   "codemirror_mode": {
    "name": "ipython",
    "version": 3
   },
   "file_extension": ".py",
   "mimetype": "text/x-python",
   "name": "python",
   "nbconvert_exporter": "python",
   "pygments_lexer": "ipython3",
   "version": "3.9.6"
  }
 },
 "nbformat": 4,
 "nbformat_minor": 2
}
